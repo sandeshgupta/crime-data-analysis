{
 "cells": [
  {
   "cell_type": "code",
   "execution_count": null,
   "id": "6aad9a29",
   "metadata": {},
   "outputs": [],
   "source": [
    "import pandas as pd\n",
    "import numpy as np"
   ]
  },
  {
   "cell_type": "code",
   "execution_count": null,
   "id": "fe71f730",
   "metadata": {},
   "outputs": [],
   "source": [
    "# Generate only last 400K records (total - 7M)\n",
    "\n",
    "# crime_data = pd.read_csv('data/7Mrecords.csv', skiprows=range(1,7000000))\n",
    "# crime_data.to_csv('data/last400Krecords.csv', sep=',', encoding='utf-8', index=False)"
   ]
  },
  {
   "cell_type": "code",
   "execution_count": null,
   "id": "68aebc9d",
   "metadata": {},
   "outputs": [],
   "source": [
    "# Generate data of only last 2 years - 2020 and 2021\n",
    "\n",
    "# crime_data = pd.read_csv('data/last400Krecords.csv')\n",
    "# crime_data['Date'] = pd.to_datetime(crime_data['Date']).dt.date\n",
    "# startdate = pd.to_datetime(\"2020-01-01\").date()\n",
    "# enddate = pd.to_datetime(\"2021-12-31\").date()\n",
    "# crime_data = crime_data[(crime_data[\"Date\"] >= startdate)  & (crime_data[\"Date\"] <= enddate)]\n",
    "# crime_data.to_csv('data/2020-21.csv', sep=',', encoding='utf-8', index=False)"
   ]
  },
  {
   "cell_type": "code",
   "execution_count": null,
   "id": "0b006aa3",
   "metadata": {},
   "outputs": [],
   "source": [
    "# Generate data of only last current year - 2021\n",
    "\n",
    "# crime_data = pd.read_csv('data/last400Krecords.csv')\n",
    "# crime_data['Date'] = pd.to_datetime(crime_data['Date']).dt.date\n",
    "# startdate = pd.to_datetime(\"2021-01-01\").date()\n",
    "# enddate = pd.to_datetime(\"2021-12-31\").date()\n",
    "# crime_data = crime_data[(crime_data[\"Date\"] >= startdate)  & (crime_data[\"Date\"] <= enddate)]\n",
    "# crime_data.to_csv('data/2021.csv', sep=',', encoding='utf-8', index=False)"
   ]
  }
 ],
 "metadata": {
  "kernelspec": {
   "display_name": "Python 3 (ipykernel)",
   "language": "python",
   "name": "python3"
  },
  "language_info": {
   "codemirror_mode": {
    "name": "ipython",
    "version": 3
   },
   "file_extension": ".py",
   "mimetype": "text/x-python",
   "name": "python",
   "nbconvert_exporter": "python",
   "pygments_lexer": "ipython3",
   "version": "3.8.10"
  }
 },
 "nbformat": 4,
 "nbformat_minor": 5
}
