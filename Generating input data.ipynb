{
 "cells": [
  {
   "cell_type": "code",
   "execution_count": 2,
   "id": "6aad9a29",
   "metadata": {},
   "outputs": [],
   "source": [
    "import pandas as pd\n",
    "import numpy as np"
   ]
  },
  {
   "cell_type": "code",
   "execution_count": null,
   "id": "fe71f730",
   "metadata": {},
   "outputs": [],
   "source": [
    "# Generate only last 400K records (total - 7M)\n",
    "\n",
    "# crime_data = pd.read_csv('data/7Mrecords.csv', skiprows=range(1,7000000))\n",
    "# crime_data.to_csv('data/last400Krecords.csv', sep=',', encoding='utf-8', index=False)"
   ]
  },
  {
   "cell_type": "code",
   "execution_count": null,
   "id": "68aebc9d",
   "metadata": {},
   "outputs": [],
   "source": [
    "# Generate data of only last 2 years - 2020 and 2021\n",
    "\n",
    "# crime_data = pd.read_csv('data/last400Krecords.csv')\n",
    "# crime_data['Date'] = pd.to_datetime(crime_data['Date']).dt.date\n",
    "# startdate = pd.to_datetime(\"2020-01-01\").date()\n",
    "# enddate = pd.to_datetime(\"2021-12-31\").date()\n",
    "# crime_data = crime_data[(crime_data[\"Date\"] >= startdate)  & (crime_data[\"Date\"] <= enddate)]\n",
    "# crime_data.to_csv('data/2020-21.csv', sep=',', encoding='utf-8', index=False)"
   ]
  },
  {
   "cell_type": "code",
   "execution_count": null,
   "id": "0b006aa3",
   "metadata": {},
   "outputs": [],
   "source": [
    "# Generate data of only last current year - 2021\n",
    "\n",
    "# crime_data = pd.read_csv('data/last400Krecords.csv')\n",
    "# crime_data['Date'] = pd.to_datetime(crime_data['Date']).dt.date\n",
    "# startdate = pd.to_datetime(\"2021-01-01\").date()\n",
    "# enddate = pd.to_datetime(\"2021-12-31\").date()\n",
    "# crime_data = crime_data[(crime_data[\"Date\"] >= startdate)  & (crime_data[\"Date\"] <= enddate)]\n",
    "# crime_data.to_csv('data/2021.csv', sep=',', encoding='utf-8', index=False)"
   ]
  },
  {
   "cell_type": "code",
   "execution_count": 3,
   "id": "0064775b",
   "metadata": {},
   "outputs": [],
   "source": [
    "# Generate data of only last 4 years - 2018-2021(latest)\n",
    "\n",
    "# crime_data = pd.read_csv('data/7Mrecords.csv')\n",
    "# crime_data['Date'] = pd.to_datetime(crime_data['Date']).dt.date\n",
    "# startdate = pd.to_datetime(\"2018-01-01\").date()\n",
    "# enddate = pd.to_datetime(\"2021-12-31\").date()\n",
    "# crime_data = crime_data[(crime_data[\"Date\"] >= startdate)  & (crime_data[\"Date\"] <= enddate)]\n",
    "# crime_data.to_csv('data/2018-21.csv', sep=',', encoding='utf-8', index=False)"
   ]
  },
  {
   "cell_type": "code",
   "execution_count": 14,
   "id": "110688f5",
   "metadata": {},
   "outputs": [
    {
     "name": "stdout",
     "output_type": "stream",
     "text": [
      "528391\n",
      "2018-03-20\n",
      "2020-03-20\n"
     ]
    }
   ],
   "source": [
    "# Generate data - pre covid\n",
    "\n",
    "crime_data = pd.read_csv('data/2018-21.csv')\n",
    "crime_data['Date'] = pd.to_datetime(crime_data['Date']).dt.date\n",
    "startdate = pd.to_datetime(\"2018-03-20\").date()\n",
    "enddate = pd.to_datetime(\"2020-03-20\").date()\n",
    "crime_data = crime_data[(crime_data[\"Date\"] >= startdate)  & (crime_data[\"Date\"] <= enddate)]\n",
    "crime_data.to_csv('data/Pre-covid.csv', sep=',', encoding='utf-8', index=False)\n",
    "print(len(crime_data['Date']))\n",
    "print((crime_data['Date'].min()))\n",
    "print((crime_data['Date'].max()))"
   ]
  },
  {
   "cell_type": "code",
   "execution_count": 15,
   "id": "a05357a5",
   "metadata": {},
   "outputs": [
    {
     "name": "stdout",
     "output_type": "stream",
     "text": [
      "319531\n",
      "2020-03-21\n",
      "2021-10-11\n"
     ]
    }
   ],
   "source": [
    "# Generate data - post covid\n",
    "\n",
    "crime_data = pd.read_csv('data/2018-21.csv')\n",
    "crime_data['Date'] = pd.to_datetime(crime_data['Date']).dt.date\n",
    "startdate = pd.to_datetime(\"2020-03-21\").date()\n",
    "enddate = pd.to_datetime(\"2021-12-31\").date()\n",
    "crime_data = crime_data[(crime_data[\"Date\"] >= startdate)  & (crime_data[\"Date\"] <= enddate)]\n",
    "crime_data.to_csv('data/Post-covid.csv', sep=',', encoding='utf-8', index=False)\n",
    "print(len(crime_data['Date']))\n",
    "print((crime_data['Date'].min()))\n",
    "print((crime_data['Date'].max()))"
   ]
  }
 ],
 "metadata": {
  "kernelspec": {
   "display_name": "Python 3 (ipykernel)",
   "language": "python",
   "name": "python3"
  },
  "language_info": {
   "codemirror_mode": {
    "name": "ipython",
    "version": 3
   },
   "file_extension": ".py",
   "mimetype": "text/x-python",
   "name": "python",
   "nbconvert_exporter": "python",
   "pygments_lexer": "ipython3",
   "version": "3.8.10"
  }
 },
 "nbformat": 4,
 "nbformat_minor": 5
}
